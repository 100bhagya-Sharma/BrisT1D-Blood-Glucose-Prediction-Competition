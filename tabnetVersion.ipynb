{
 "cells": [
  {
   "metadata": {
    "ExecuteTime": {
     "end_time": "2024-11-27T11:34:19.671215Z",
     "start_time": "2024-11-27T11:31:15.249167Z"
    }
   },
   "cell_type": "code",
   "source": "!pip install -qq pytorch_tabnet",
   "id": "67f66cebcd9eb32c",
   "outputs": [],
   "execution_count": 1
  },
  {
   "cell_type": "code",
   "id": "initial_id",
   "metadata": {
    "collapsed": true,
    "ExecuteTime": {
     "end_time": "2024-11-27T15:16:09.871322Z",
     "start_time": "2024-11-27T15:16:09.860591Z"
    }
   },
   "source": [
    "\n",
    "from pytorch_tabnet.tab_model import TabNetRegressor\n",
    "from tqdm import tqdm\n",
    "from itertools import product\n",
    "import numpy as np\n",
    "import pandas as pd\n",
    "import matplotlib.pyplot as plt\n",
    "import seaborn as sns\n",
    "from sklearn.model_selection import GroupKFold\n",
    "from sklearn.impute import SimpleImputer\n",
    "import warnings"
   ],
   "outputs": [],
   "execution_count": 48
  },
  {
   "metadata": {
    "ExecuteTime": {
     "end_time": "2024-11-27T15:16:10.530583Z",
     "start_time": "2024-11-27T15:16:10.523327Z"
    }
   },
   "cell_type": "code",
   "source": [
    "\n",
    "warnings.filterwarnings(\"ignore\")\n"
   ],
   "id": "ea9eeeb793a8221c",
   "outputs": [],
   "execution_count": 49
  },
  {
   "metadata": {
    "ExecuteTime": {
     "end_time": "2024-11-27T15:16:11.042234Z",
     "start_time": "2024-11-27T15:16:11.032607Z"
    }
   },
   "cell_type": "code",
   "source": [
    "hours = range(0, 6)\n",
    "minutes = range(0, 60, 5)"
   ],
   "id": "c9b2d5a63dd5f12a",
   "outputs": [],
   "execution_count": 50
  },
  {
   "metadata": {
    "ExecuteTime": {
     "end_time": "2024-11-27T15:16:11.699494Z",
     "start_time": "2024-11-27T15:16:11.687869Z"
    }
   },
   "cell_type": "code",
   "source": [
    "target_col = 'bg+1-00'\n",
    "group_col = 'p_num'\n",
    "date_col = 'time'"
   ],
   "id": "98b7a9a6c6a34d88",
   "outputs": [],
   "execution_count": 51
  },
  {
   "metadata": {
    "ExecuteTime": {
     "end_time": "2024-11-27T15:16:12.703797Z",
     "start_time": "2024-11-27T15:16:12.688674Z"
    }
   },
   "cell_type": "code",
   "source": [
    "from itertools import product\n",
    "\n",
    "bg_cols   = [f'bg-{i}-{j:02d}' for i, j in product(hours, minutes)][:12]\n",
    "insu_cols = [f'insulin-{i}-{j:02d}' for i, j in product(hours, minutes)][:12]\n",
    "carb_cols = [f'carbs-{i}-{j:02d}' for i, j in product(hours, minutes)][:12]\n",
    "hr_cols   = [f'hr-{i}-{j:02d}' for i, j in product(hours, minutes)][:12]\n",
    "step_cols = [f'steps-{i}-{j:02d}' for i, j in product(hours, minutes)][:12]\n",
    "cals_cols = [f'cals-{i}-{j:02d}' for i, j in product(hours, minutes)][:12]\n"
   ],
   "id": "3d83e72c003107a9",
   "outputs": [],
   "execution_count": 52
  },
  {
   "metadata": {
    "ExecuteTime": {
     "end_time": "2024-11-27T15:16:13.331684Z",
     "start_time": "2024-11-27T15:16:13.322196Z"
    }
   },
   "cell_type": "code",
   "source": "feature_cols = bg_cols + insu_cols + carb_cols + hr_cols + step_cols + cals_cols\n",
   "id": "925bca7ebfcb1283",
   "outputs": [],
   "execution_count": 53
  },
  {
   "metadata": {
    "ExecuteTime": {
     "end_time": "2024-11-27T15:16:43.199548Z",
     "start_time": "2024-11-27T15:16:14.106303Z"
    }
   },
   "cell_type": "code",
   "source": [
    "df_train = pd.read_csv('Dataset/train.csv/train.csv', index_col='id', parse_dates=['time'])\n",
    "df_test = pd.read_csv('Dataset/test (1).csv', index_col='id', parse_dates=['time'])\n",
    "df_subm = pd.read_csv('Dataset/sample_submission.csv', index_col='id')"
   ],
   "id": "694d6ef678c32071",
   "outputs": [],
   "execution_count": 54
  },
  {
   "metadata": {
    "ExecuteTime": {
     "end_time": "2024-11-27T15:16:44.539228Z",
     "start_time": "2024-11-27T15:16:44.509043Z"
    }
   },
   "cell_type": "code",
   "source": [
    "df_train.columns = df_train.columns.str.replace(':', '-')\n",
    "df_test.columns = df_test.columns.str.replace(':', '-')"
   ],
   "id": "ea6af2bb540b4e27",
   "outputs": [],
   "execution_count": 55
  },
  {
   "metadata": {
    "ExecuteTime": {
     "end_time": "2024-11-27T15:17:24.947009Z",
     "start_time": "2024-11-27T15:16:44.566559Z"
    }
   },
   "cell_type": "code",
   "source": [
    "for colset in [bg_cols, insu_cols, carb_cols, hr_cols, step_cols, cals_cols]:\n",
    "    df_train[colset] = df_train[colset].interpolate(axis=1)\n",
    "    df_test[colset] = df_test[colset].interpolate(axis=1)"
   ],
   "id": "f6f03ec0954f2bbc",
   "outputs": [],
   "execution_count": 56
  },
  {
   "metadata": {
    "ExecuteTime": {
     "end_time": "2024-11-27T15:17:26.555483Z",
     "start_time": "2024-11-27T15:17:25.298990Z"
    }
   },
   "cell_type": "code",
   "source": [
    "imputer = SimpleImputer()\n",
    "df_train[feature_cols] = imputer.fit_transform(df_train[feature_cols])\n",
    "df_test[feature_cols] = imputer.transform(df_test[feature_cols])"
   ],
   "id": "4ee204a1d7a4cf20",
   "outputs": [],
   "execution_count": 57
  },
  {
   "metadata": {
    "ExecuteTime": {
     "end_time": "2024-11-27T15:17:27.081335Z",
     "start_time": "2024-11-27T15:17:26.987067Z"
    }
   },
   "cell_type": "code",
   "source": [
    "df_train['sin_hour'] = np.sin(np.pi * df_train[date_col].dt.hour / 12)\n",
    "df_train['cos_hour'] = np.cos(np.pi * df_train[date_col].dt.hour / 12)\n",
    "df_test['sin_hour'] = np.sin(np.pi * df_test[date_col].dt.hour / 12)\n",
    "df_test['cos_hour'] = np.cos(np.pi * df_test[date_col].dt.hour / 12)"
   ],
   "id": "187bce8af297bba7",
   "outputs": [],
   "execution_count": 58
  },
  {
   "metadata": {
    "ExecuteTime": {
     "end_time": "2024-11-27T15:17:27.466747Z",
     "start_time": "2024-11-27T15:17:27.450987Z"
    }
   },
   "cell_type": "code",
   "source": "feature_cols.extend(['sin_hour', 'cos_hour'])",
   "id": "caa8f6940b25b270",
   "outputs": [],
   "execution_count": 59
  },
  {
   "metadata": {
    "ExecuteTime": {
     "end_time": "2024-11-27T15:17:27.804026Z",
     "start_time": "2024-11-27T15:17:27.792208Z"
    }
   },
   "cell_type": "code",
   "source": [
    "grouped_features = [\n",
    "    [idx for idx, col in enumerate(feature_cols) if col in colset]\n",
    "    for colset in [bg_cols, insu_cols, carb_cols, hr_cols, step_cols, cals_cols]\n",
    "]"
   ],
   "id": "5204ee7e9fbd5f27",
   "outputs": [],
   "execution_count": 60
  },
  {
   "metadata": {
    "ExecuteTime": {
     "end_time": "2024-11-27T15:17:28.754417Z",
     "start_time": "2024-11-27T15:17:28.183867Z"
    }
   },
   "cell_type": "code",
   "source": [
    "X = df_train[feature_cols]\n",
    "y = df_train[[target_col]]\n",
    "groups = df_train[group_col]\n",
    "cv = GroupKFold(5)"
   ],
   "id": "aed4874510c2e795",
   "outputs": [],
   "execution_count": 61
  },
  {
   "metadata": {
    "ExecuteTime": {
     "end_time": "2024-11-27T15:17:29.081978Z",
     "start_time": "2024-11-27T15:17:29.072976Z"
    }
   },
   "cell_type": "code",
   "source": "df_subm['bg+1:00'] = 0.0",
   "id": "44f3d0349dbd3cdf",
   "outputs": [],
   "execution_count": 62
  },
  {
   "metadata": {
    "ExecuteTime": {
     "end_time": "2024-11-27T14:49:17.713312Z",
     "start_time": "2024-11-27T14:02:38.745060Z"
    }
   },
   "cell_type": "code",
   "source": [
    "for idx_train, idx_valid in cv.split(X, y, groups=groups):\n",
    "    # Split data into training and validation sets\n",
    "    X_train, y_train = X.iloc[idx_train].to_numpy(), y.iloc[idx_train].to_numpy()\n",
    "    X_valid, y_valid = X.iloc[idx_valid].to_numpy(), y.iloc[idx_valid].to_numpy()\n",
    "    \n",
    "    # Initialize and train the TabNet Regressor\n",
    "    reg = TabNetRegressor(grouped_features=grouped_features)\n",
    "    reg.fit(\n",
    "        X_train, y_train,\n",
    "        eval_set=[(X_valid, y_valid)],\n",
    "        eval_metric=['rmse'],\n",
    "        batch_size=1024\n",
    "    )\n",
    "    X_test = df_test[feature_cols].to_numpy()\n",
    "    df_subm['bg+1:00'] += reg.predict(X_test)[:, 0] / 5\n",
    "    "
   ],
   "id": "ebe0772eab2ba037",
   "outputs": [
    {
     "name": "stdout",
     "output_type": "stream",
     "text": [
      "epoch 0  | loss: 6.77065 | val_0_rmse: 3.02622 |  0:00:18s\n",
      "epoch 1  | loss: 4.16207 | val_0_rmse: 2.27287 |  0:00:38s\n",
      "epoch 2  | loss: 4.08278 | val_0_rmse: 2.20317 |  0:00:55s\n",
      "epoch 3  | loss: 4.01434 | val_0_rmse: 2.23264 |  0:01:13s\n",
      "epoch 4  | loss: 3.97    | val_0_rmse: 2.19876 |  0:01:30s\n",
      "epoch 5  | loss: 3.96122 | val_0_rmse: 2.23899 |  0:01:46s\n",
      "epoch 6  | loss: 3.92669 | val_0_rmse: 2.189   |  0:02:04s\n",
      "epoch 7  | loss: 3.88666 | val_0_rmse: 2.18074 |  0:02:25s\n",
      "epoch 8  | loss: 3.86387 | val_0_rmse: 2.21623 |  0:02:42s\n",
      "epoch 9  | loss: 3.85774 | val_0_rmse: 2.19852 |  0:03:00s\n",
      "epoch 10 | loss: 3.86054 | val_0_rmse: 2.22196 |  0:03:19s\n",
      "epoch 11 | loss: 3.86224 | val_0_rmse: 2.23303 |  0:03:37s\n",
      "epoch 12 | loss: 3.83942 | val_0_rmse: 2.1881  |  0:03:58s\n",
      "epoch 13 | loss: 3.81797 | val_0_rmse: 2.18083 |  0:04:15s\n",
      "epoch 14 | loss: 3.82019 | val_0_rmse: 2.17728 |  0:04:33s\n",
      "epoch 15 | loss: 3.8251  | val_0_rmse: 2.17673 |  0:04:51s\n",
      "epoch 16 | loss: 3.79224 | val_0_rmse: 2.17644 |  0:05:10s\n",
      "epoch 17 | loss: 3.80896 | val_0_rmse: 2.20242 |  0:05:30s\n",
      "epoch 18 | loss: 3.80072 | val_0_rmse: 2.18386 |  0:05:48s\n",
      "epoch 19 | loss: 3.83818 | val_0_rmse: 2.2562  |  0:06:08s\n",
      "epoch 20 | loss: 3.85352 | val_0_rmse: 2.17364 |  0:06:29s\n",
      "epoch 21 | loss: 3.79393 | val_0_rmse: 2.24463 |  0:06:48s\n",
      "epoch 22 | loss: 3.77739 | val_0_rmse: 2.19402 |  0:07:06s\n",
      "epoch 23 | loss: 3.75637 | val_0_rmse: 2.15119 |  0:07:24s\n",
      "epoch 24 | loss: 3.7557  | val_0_rmse: 2.17233 |  0:07:41s\n",
      "epoch 25 | loss: 3.7483  | val_0_rmse: 2.20575 |  0:07:58s\n",
      "epoch 26 | loss: 3.733   | val_0_rmse: 2.20664 |  0:08:16s\n",
      "epoch 27 | loss: 3.73302 | val_0_rmse: 2.22852 |  0:08:36s\n",
      "epoch 28 | loss: 3.71666 | val_0_rmse: 2.19033 |  0:08:57s\n",
      "epoch 29 | loss: 3.71365 | val_0_rmse: 2.19581 |  0:09:26s\n",
      "epoch 30 | loss: 3.71445 | val_0_rmse: 2.20056 |  0:09:50s\n",
      "epoch 31 | loss: 3.70479 | val_0_rmse: 2.19573 |  0:10:18s\n",
      "epoch 32 | loss: 3.67599 | val_0_rmse: 2.2253  |  0:10:37s\n",
      "epoch 33 | loss: 3.66674 | val_0_rmse: 2.18509 |  0:10:52s\n",
      "\n",
      "Early stopping occurred at epoch 33 with best_epoch = 23 and best_val_0_rmse = 2.15119\n",
      "epoch 0  | loss: 7.03776 | val_0_rmse: 2.56451 |  0:00:15s\n",
      "epoch 1  | loss: 4.28187 | val_0_rmse: 2.21728 |  0:00:36s\n",
      "epoch 2  | loss: 4.11158 | val_0_rmse: 2.22163 |  0:01:01s\n",
      "epoch 3  | loss: 4.04879 | val_0_rmse: 2.17848 |  0:01:20s\n",
      "epoch 4  | loss: 4.05397 | val_0_rmse: 2.18476 |  0:01:43s\n",
      "epoch 5  | loss: 3.99766 | val_0_rmse: 2.21662 |  0:02:08s\n",
      "epoch 6  | loss: 3.96297 | val_0_rmse: 2.18153 |  0:02:35s\n",
      "epoch 7  | loss: 3.91549 | val_0_rmse: 2.16004 |  0:03:07s\n",
      "epoch 8  | loss: 3.89679 | val_0_rmse: 2.17847 |  0:03:34s\n",
      "epoch 9  | loss: 3.88123 | val_0_rmse: 2.18651 |  0:04:00s\n",
      "epoch 10 | loss: 3.86247 | val_0_rmse: 2.18849 |  0:04:21s\n",
      "epoch 11 | loss: 3.91868 | val_0_rmse: 2.26501 |  0:04:38s\n",
      "epoch 12 | loss: 3.87573 | val_0_rmse: 2.15585 |  0:04:53s\n",
      "epoch 13 | loss: 3.8401  | val_0_rmse: 2.18887 |  0:05:09s\n",
      "epoch 14 | loss: 3.83286 | val_0_rmse: 2.1525  |  0:05:27s\n",
      "epoch 15 | loss: 3.82148 | val_0_rmse: 2.17153 |  0:05:42s\n",
      "epoch 16 | loss: 3.79299 | val_0_rmse: 2.1725  |  0:05:57s\n",
      "epoch 17 | loss: 3.77132 | val_0_rmse: 2.15598 |  0:06:13s\n",
      "epoch 18 | loss: 3.78353 | val_0_rmse: 2.16551 |  0:06:28s\n",
      "epoch 19 | loss: 3.76747 | val_0_rmse: 2.28255 |  0:06:44s\n",
      "epoch 20 | loss: 3.74774 | val_0_rmse: 2.17839 |  0:06:59s\n",
      "epoch 21 | loss: 3.75132 | val_0_rmse: 2.14065 |  0:07:14s\n",
      "epoch 22 | loss: 3.73403 | val_0_rmse: 2.16676 |  0:07:31s\n",
      "epoch 23 | loss: 3.73115 | val_0_rmse: 2.17536 |  0:07:47s\n",
      "epoch 24 | loss: 3.74143 | val_0_rmse: 2.16022 |  0:08:05s\n",
      "epoch 25 | loss: 3.71817 | val_0_rmse: 2.14462 |  0:08:22s\n",
      "epoch 26 | loss: 3.69553 | val_0_rmse: 2.16444 |  0:08:39s\n",
      "epoch 27 | loss: 3.69541 | val_0_rmse: 2.16923 |  0:08:55s\n",
      "epoch 28 | loss: 3.69307 | val_0_rmse: 2.19306 |  0:09:14s\n",
      "epoch 29 | loss: 3.67807 | val_0_rmse: 2.28532 |  0:09:29s\n",
      "epoch 30 | loss: 3.67261 | val_0_rmse: 2.16376 |  0:09:44s\n",
      "epoch 31 | loss: 3.68557 | val_0_rmse: 2.17579 |  0:09:58s\n",
      "\n",
      "Early stopping occurred at epoch 31 with best_epoch = 21 and best_val_0_rmse = 2.14065\n",
      "epoch 0  | loss: 7.72746 | val_0_rmse: 2.65805 |  0:00:18s\n",
      "epoch 1  | loss: 4.63905 | val_0_rmse: 2.05737 |  0:00:35s\n",
      "epoch 2  | loss: 4.48161 | val_0_rmse: 2.06024 |  0:00:50s\n",
      "epoch 3  | loss: 4.40944 | val_0_rmse: 1.89698 |  0:01:07s\n",
      "epoch 4  | loss: 4.37354 | val_0_rmse: 1.88931 |  0:01:25s\n",
      "epoch 5  | loss: 4.29801 | val_0_rmse: 1.79793 |  0:01:50s\n",
      "epoch 6  | loss: 4.2744  | val_0_rmse: 1.77154 |  0:02:12s\n",
      "epoch 7  | loss: 4.23928 | val_0_rmse: 1.90214 |  0:02:33s\n",
      "epoch 8  | loss: 4.22839 | val_0_rmse: 1.75762 |  0:02:54s\n",
      "epoch 9  | loss: 4.21369 | val_0_rmse: 1.76115 |  0:03:18s\n",
      "epoch 10 | loss: 4.19543 | val_0_rmse: 1.97257 |  0:03:46s\n",
      "epoch 11 | loss: 4.17426 | val_0_rmse: 1.80533 |  0:04:12s\n",
      "epoch 12 | loss: 4.15881 | val_0_rmse: 1.87884 |  0:04:35s\n",
      "epoch 13 | loss: 4.16549 | val_0_rmse: 1.76054 |  0:04:56s\n",
      "epoch 14 | loss: 4.14617 | val_0_rmse: 1.7539  |  0:05:15s\n",
      "epoch 15 | loss: 4.14733 | val_0_rmse: 1.81559 |  0:05:41s\n",
      "epoch 16 | loss: 4.13543 | val_0_rmse: 1.88905 |  0:06:13s\n",
      "epoch 17 | loss: 4.12166 | val_0_rmse: 1.81445 |  0:06:37s\n",
      "epoch 18 | loss: 4.11325 | val_0_rmse: 1.89051 |  0:07:02s\n",
      "epoch 19 | loss: 4.09088 | val_0_rmse: 1.75989 |  0:07:20s\n",
      "epoch 20 | loss: 4.10308 | val_0_rmse: 1.88027 |  0:07:38s\n",
      "epoch 21 | loss: 4.09853 | val_0_rmse: 1.94578 |  0:07:56s\n",
      "epoch 22 | loss: 4.10496 | val_0_rmse: 1.78941 |  0:08:17s\n",
      "epoch 23 | loss: 4.09348 | val_0_rmse: 1.85521 |  0:08:36s\n",
      "epoch 24 | loss: 4.07841 | val_0_rmse: 1.87376 |  0:08:55s\n",
      "\n",
      "Early stopping occurred at epoch 24 with best_epoch = 14 and best_val_0_rmse = 1.7539\n",
      "epoch 0  | loss: 7.18334 | val_0_rmse: 2.50881 |  0:00:18s\n",
      "epoch 1  | loss: 4.36275 | val_0_rmse: 2.06487 |  0:00:36s\n",
      "epoch 2  | loss: 4.26066 | val_0_rmse: 2.02309 |  0:00:53s\n",
      "epoch 3  | loss: 4.23465 | val_0_rmse: 2.0541  |  0:01:14s\n",
      "epoch 4  | loss: 4.13612 | val_0_rmse: 2.07578 |  0:01:35s\n",
      "epoch 5  | loss: 4.08755 | val_0_rmse: 2.04936 |  0:01:58s\n",
      "epoch 6  | loss: 4.06509 | val_0_rmse: 2.06864 |  0:02:24s\n",
      "epoch 7  | loss: 4.06303 | val_0_rmse: 2.08063 |  0:02:48s\n",
      "epoch 8  | loss: 4.01552 | val_0_rmse: 2.05412 |  0:03:07s\n",
      "epoch 9  | loss: 4.0007  | val_0_rmse: 2.00697 |  0:03:25s\n",
      "epoch 10 | loss: 3.98815 | val_0_rmse: 2.03573 |  0:03:45s\n",
      "epoch 11 | loss: 4.00576 | val_0_rmse: 2.03439 |  0:04:05s\n",
      "epoch 12 | loss: 3.96543 | val_0_rmse: 2.01685 |  0:04:25s\n",
      "epoch 13 | loss: 3.94299 | val_0_rmse: 2.03618 |  0:04:45s\n",
      "epoch 14 | loss: 3.92511 | val_0_rmse: 2.05548 |  0:05:04s\n",
      "epoch 15 | loss: 3.91357 | val_0_rmse: 2.00417 |  0:05:25s\n",
      "epoch 16 | loss: 3.92491 | val_0_rmse: 2.04269 |  0:05:44s\n",
      "epoch 17 | loss: 3.92999 | val_0_rmse: 2.02313 |  0:06:09s\n",
      "epoch 18 | loss: 3.88904 | val_0_rmse: 2.07987 |  0:06:33s\n",
      "epoch 19 | loss: 3.89045 | val_0_rmse: 2.00822 |  0:06:58s\n",
      "epoch 20 | loss: 3.87472 | val_0_rmse: 2.0379  |  0:07:21s\n",
      "epoch 21 | loss: 3.85262 | val_0_rmse: 2.02108 |  0:07:44s\n",
      "epoch 22 | loss: 3.87569 | val_0_rmse: 2.12688 |  0:08:07s\n",
      "epoch 23 | loss: 3.863   | val_0_rmse: 2.04739 |  0:08:29s\n",
      "epoch 24 | loss: 3.82924 | val_0_rmse: 2.02016 |  0:08:51s\n",
      "epoch 25 | loss: 3.83359 | val_0_rmse: 2.02936 |  0:09:14s\n",
      "\n",
      "Early stopping occurred at epoch 25 with best_epoch = 15 and best_val_0_rmse = 2.00417\n",
      "epoch 0  | loss: 7.40866 | val_0_rmse: 2.60289 |  0:00:21s\n",
      "epoch 1  | loss: 4.28694 | val_0_rmse: 2.15623 |  0:00:41s\n",
      "epoch 2  | loss: 4.16913 | val_0_rmse: 2.30075 |  0:01:03s\n",
      "epoch 3  | loss: 4.09379 | val_0_rmse: 2.14305 |  0:01:24s\n",
      "epoch 4  | loss: 4.03496 | val_0_rmse: 2.1184  |  0:01:41s\n",
      "epoch 5  | loss: 4.00718 | val_0_rmse: 2.07693 |  0:01:53s\n",
      "epoch 6  | loss: 3.99525 | val_0_rmse: 2.09302 |  0:02:06s\n",
      "epoch 7  | loss: 4.0088  | val_0_rmse: 2.13837 |  0:02:19s\n",
      "epoch 8  | loss: 3.98584 | val_0_rmse: 2.08569 |  0:02:31s\n",
      "epoch 9  | loss: 3.95989 | val_0_rmse: 2.13531 |  0:02:44s\n",
      "epoch 10 | loss: 3.92388 | val_0_rmse: 2.05813 |  0:02:58s\n",
      "epoch 11 | loss: 3.93494 | val_0_rmse: 2.09821 |  0:03:13s\n",
      "epoch 12 | loss: 3.91651 | val_0_rmse: 2.10872 |  0:03:27s\n",
      "epoch 13 | loss: 3.94051 | val_0_rmse: 2.14381 |  0:03:42s\n",
      "epoch 14 | loss: 3.91483 | val_0_rmse: 2.09657 |  0:03:57s\n",
      "epoch 15 | loss: 3.97303 | val_0_rmse: 2.09212 |  0:04:11s\n",
      "epoch 16 | loss: 3.94555 | val_0_rmse: 2.08497 |  0:04:26s\n",
      "epoch 17 | loss: 3.87707 | val_0_rmse: 2.07046 |  0:04:41s\n",
      "epoch 18 | loss: 3.87479 | val_0_rmse: 2.06258 |  0:04:55s\n",
      "epoch 19 | loss: 3.87019 | val_0_rmse: 2.06564 |  0:05:09s\n",
      "epoch 20 | loss: 3.8627  | val_0_rmse: 2.07783 |  0:05:22s\n",
      "\n",
      "Early stopping occurred at epoch 20 with best_epoch = 10 and best_val_0_rmse = 2.05813\n"
     ]
    }
   ],
   "execution_count": 42
  },
  {
   "metadata": {
    "ExecuteTime": {
     "end_time": "2024-11-27T14:49:18.312975Z",
     "start_time": "2024-11-27T14:49:18.277511Z"
    }
   },
   "cell_type": "code",
   "source": "df_subm.to_csv('submissionfinal.csv')",
   "id": "f21e06869eae719e",
   "outputs": [],
   "execution_count": 43
  },
  {
   "metadata": {},
   "cell_type": "code",
   "outputs": [],
   "execution_count": null,
   "source": "",
   "id": "80c24b23ff6d377c"
  },
  {
   "metadata": {},
   "cell_type": "markdown",
   "source": "Use TabNet Hyperparameter Tuning",
   "id": "560b07dfdc3869a2"
  },
  {
   "metadata": {
    "jupyter": {
     "is_executing": true
    },
    "ExecuteTime": {
     "start_time": "2024-11-27T15:17:29.446768Z"
    }
   },
   "cell_type": "code",
   "source": [
    "from optuna.terminator.improvement.emmr import torch\n",
    "\n",
    "# Train and evaluate model\n",
    "for idx_train, idx_valid in cv.split(X, y, groups=groups):\n",
    "    X_train, y_train = X.iloc[idx_train].to_numpy(), y.iloc[idx_train].to_numpy()\n",
    "    X_valid, y_valid = X.iloc[idx_valid].to_numpy(), y.iloc[idx_valid].to_numpy()\n",
    "    \n",
    "    reg = TabNetRegressor(\n",
    "        n_d=32,\n",
    "        n_a=32,\n",
    "        n_steps=5,\n",
    "        gamma=1.5,\n",
    "        lambda_sparse=1e-3,\n",
    "        optimizer_fn=torch.optim.Adam,\n",
    "        optimizer_params=dict(lr=1e-3),\n",
    "    )\n",
    "    \n",
    "    reg.fit(\n",
    "        X_train, y_train,\n",
    "        eval_set=[(X_valid, y_valid)],\n",
    "        eval_metric=['rmse'],\n",
    "        batch_size=1024,\n",
    "        max_epochs=50,\n",
    "        patience=10,\n",
    "    )\n",
    "    \n",
    "    X_test = df_test[feature_cols].to_numpy()\n",
    "    df_subm['bg+1:00'] += reg.predict(X_test)[:, 0] / cv.get_n_splits()"
   ],
   "id": "974264e96bd3ca36",
   "outputs": [],
   "execution_count": null
  },
  {
   "metadata": {},
   "cell_type": "code",
   "outputs": [],
   "execution_count": null,
   "source": "df_subm.to_csv('submission3.csv')\n",
   "id": "bd02a7332b8c3766"
  },
  {
   "metadata": {},
   "cell_type": "code",
   "outputs": [],
   "execution_count": null,
   "source": [
    "from optuna.integration import shap\n",
    "\n",
    "# Feature importance analysis with SHAP\n",
    "explainer = shap.Explainer(reg)\n",
    "shap_values = explainer(X)\n",
    "shap.summary_plot(shap_values, feature_names=feature_cols)"
   ],
   "id": "f28544ba172c13a6"
  },
  {
   "metadata": {},
   "cell_type": "code",
   "outputs": [],
   "execution_count": null,
   "source": [
    "# Visualize feature importances\n",
    "plt.figure(figsize=(12, 8))\n",
    "sns.barplot(\n",
    "    y=feature_cols[:20],\n",
    "    x=reg.feature_importances_[:20]\n",
    ")\n",
    "plt.title(\"Feature Importance\")\n",
    "plt.show()"
   ],
   "id": "85bcfd1c5fcac6e2"
  },
  {
   "metadata": {},
   "cell_type": "code",
   "outputs": [],
   "execution_count": null,
   "source": "",
   "id": "b56b04bb58644865"
  }
 ],
 "metadata": {
  "kernelspec": {
   "display_name": "Python 3",
   "language": "python",
   "name": "python3"
  },
  "language_info": {
   "codemirror_mode": {
    "name": "ipython",
    "version": 2
   },
   "file_extension": ".py",
   "mimetype": "text/x-python",
   "name": "python",
   "nbconvert_exporter": "python",
   "pygments_lexer": "ipython2",
   "version": "2.7.6"
  }
 },
 "nbformat": 4,
 "nbformat_minor": 5
}
